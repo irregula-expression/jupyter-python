{
 "cells": [
  {
   "cell_type": "markdown",
   "metadata": {},
   "source": [
    "## Python File Handling.\n",
    "> We can use File handling to read and write data to and from the file.\n",
    "<br />\n",
    "\n",
    "+ ** Opening/ Creating File **\n",
    "<p>\n",
    "Before reading/writing you first need to open the file.<br><br />\n",
    "<code>f = open(filename, mode)</code>\n",
    "</p>"
   ]
  },
  {
   "cell_type": "code",
   "execution_count": 1,
   "metadata": {
    "collapsed": false
   },
   "outputs": [
    {
     "name": "stdout",
     "output_type": "stream",
     "text": [
      "File has been opened/created!\n"
     ]
    }
   ],
   "source": [
    "demoFile = open(\"sam.dat\", \"w\")\n",
    "print(\"File has been opened/created!\")"
   ]
  },
  {
   "cell_type": "markdown",
   "metadata": {},
   "source": [
    "+ **Closing File**\n",
    "<p>\n",
    "After you have finished reading/writing to the file you need to close the file.<br /><br />\n",
    "<code>f.close()</code>\n",
    "</p>"
   ]
  },
  {
   "cell_type": "code",
   "execution_count": 2,
   "metadata": {
    "collapsed": false
   },
   "outputs": [
    {
     "name": "stdout",
     "output_type": "stream",
     "text": [
      "Data Writing Successful!\n"
     ]
    }
   ],
   "source": [
    "demoFile.close()\n",
    "print(\"Data Writing Successful!\")"
   ]
  },
  {
   "cell_type": "markdown",
   "metadata": {},
   "source": [
    "+ **Writing data to a file**\n",
    "<p>\n",
    "<code>f.write(\"<--some data here-->\")</code>\n",
    "</p>"
   ]
  },
  {
   "cell_type": "code",
   "execution_count": 3,
   "metadata": {
    "collapsed": false
   },
   "outputs": [
    {
     "name": "stdout",
     "output_type": "stream",
     "text": [
      "Data Writing Successful!\n"
     ]
    }
   ],
   "source": [
    "demoFile = open(\"sam.dat\", \"w\")\n",
    "\n",
    "demoFile.write(\"This is sample test.\\n\")\n",
    "demoFile.write(\"This is sample text.\\n\")\n",
    "demoFile.write(\"This is sample test.\\n\")\n",
    "demoFile.write(\"This is sample text.\\n\")\n",
    "\n",
    "demoFile.close()\n",
    "print(\"Data Writing Successful!\")"
   ]
  },
  {
   "cell_type": "markdown",
   "metadata": {},
   "source": [
    "+ **Reading data from a file**\n",
    "<p>\n",
    "<code>f.read([number])</code> <br />\n",
    "<code>f.readline()</code> <br />\n",
    "<code>f.readlines()</code> <br />\n",
    "</p>"
   ]
  },
  {
   "cell_type": "code",
   "execution_count": 4,
   "metadata": {
    "collapsed": false,
    "scrolled": true
   },
   "outputs": [
    {
     "name": "stdout",
     "output_type": "stream",
     "text": [
      "This is sample test.\n",
      "This is sample text.\n",
      "This is sample test.\n",
      "This is sample text.\n",
      "\n"
     ]
    }
   ],
   "source": [
    "#read() - reads number od specified charcters otherwise whole contents of file.\n",
    "\n",
    "demoFile = open(\"sam.dat\",\"r\")\n",
    "\n",
    "#print(demoFile.read(40))\n",
    "print(demoFile.read())\n",
    "\n",
    "demoFile.close()"
   ]
  },
  {
   "cell_type": "code",
   "execution_count": 5,
   "metadata": {
    "collapsed": false
   },
   "outputs": [
    {
     "name": "stdout",
     "output_type": "stream",
     "text": [
      "This is sample test.\n",
      "\n",
      "This is sample text.\n",
      "\n",
      "This is sample test.\n",
      "\n"
     ]
    }
   ],
   "source": [
    "#readline() - reads the next line in file.\n",
    "\n",
    "demoFile = open(\"sam.dat\",\"r\")\n",
    "\n",
    "print(demoFile.readline())\n",
    "print(demoFile.readline())\n",
    "print(demoFile.readline())\n",
    "\n",
    "demoFile.close()"
   ]
  },
  {
   "cell_type": "code",
   "execution_count": 6,
   "metadata": {
    "collapsed": false
   },
   "outputs": [
    {
     "name": "stdout",
     "output_type": "stream",
     "text": [
      "['This is sample test.\\n', 'This is sample text.\\n', 'This is sample test.\\n', 'This is sample text.\\n']\n"
     ]
    }
   ],
   "source": [
    "#readlines() - Reads all the lines as a list of strings in the file\n",
    "\n",
    "demoFile = open(\"sam.dat\",\"r\")\n",
    "\n",
    "print(demoFile.readlines())\n",
    "\n",
    "demoFile.close()\n",
    "\n"
   ]
  },
  {
   "cell_type": "markdown",
   "metadata": {},
   "source": [
    "+ **Appending data to a file**\n",
    "<p>\n",
    "To append the data, you need to open file in 'a' (append) mode.<br /><br />\n",
    "<code>f.open(\"demofile\", \"a\")</code> <br />\n",
    "</p>"
   ]
  },
  {
   "cell_type": "code",
   "execution_count": 7,
   "metadata": {
    "collapsed": false
   },
   "outputs": [
    {
     "name": "stdout",
     "output_type": "stream",
     "text": [
      "Appneding data successful!\n",
      "\n"
     ]
    }
   ],
   "source": [
    "demoFile = open(\"sam.dat\", \"a\")\n",
    "\n",
    "demoFile.writelines(\"\\n\\nHello, This is Iliyas, editing this file in append mode.\")\n",
    "\n",
    "demoFile.close()\n",
    "\n",
    "print(\"Appneding data successful!\\n\")"
   ]
  },
  {
   "cell_type": "code",
   "execution_count": 8,
   "metadata": {
    "collapsed": false
   },
   "outputs": [
    {
     "name": "stdout",
     "output_type": "stream",
     "text": [
      "This is sample test.\n",
      "This is sample text.\n",
      "This is sample test.\n",
      "This is sample text.\n",
      "\n",
      "\n",
      "Hello, This is Iliyas, editing this file in append mode.\n"
     ]
    }
   ],
   "source": [
    "demoFile = open(\"sam.dat\", \"r\")\n",
    "\n",
    "print(demoFile.read())\n",
    "\n",
    "demoFile.close()"
   ]
  },
  {
   "cell_type": "markdown",
   "metadata": {},
   "source": [
    "+ **Iterating data from file.**"
   ]
  },
  {
   "cell_type": "code",
   "execution_count": 9,
   "metadata": {
    "collapsed": false
   },
   "outputs": [
    {
     "name": "stdout",
     "output_type": "stream",
     "text": [
      "This is sample test.\n",
      "\n",
      "This is sample text.\n",
      "\n",
      "This is sample test.\n",
      "\n",
      "This is sample text.\n",
      "\n",
      "\n",
      "\n",
      "\n",
      "\n",
      "Hello, This is Iliyas, editing this file in append mode.\n"
     ]
    }
   ],
   "source": [
    "demoFile = open(\"sam.dat\", \"r\")\n",
    "\n",
    "for line in demoFile:\n",
    "    print(line)\n",
    "    \n",
    "demoFile.close()"
   ]
  },
  {
   "cell_type": "markdown",
   "metadata": {},
   "source": [
    "### Binary Reading and Writing\n",
    "\n",
    "<p>In python, binary reading and writing is facilitated by *pickle* moudule.\n",
    "<br /><br />\n",
    "<code>import pickle</code>\n",
    "</p>"
   ]
  },
  {
   "cell_type": "code",
   "execution_count": 10,
   "metadata": {
    "collapsed": false
   },
   "outputs": [
    {
     "name": "stdout",
     "output_type": "stream",
     "text": [
      "File cretaed/opened.\n"
     ]
    }
   ],
   "source": [
    "import pickle\n",
    "\n",
    "data = open(\"sample.bin\", \"wb\") #wb - write binary\n",
    "\n",
    "print(\"File cretaed/opened.\")"
   ]
  },
  {
   "cell_type": "code",
   "execution_count": 11,
   "metadata": {
    "collapsed": false
   },
   "outputs": [
    {
     "name": "stdout",
     "output_type": "stream",
     "text": [
      "Binary data dump successful!\n"
     ]
    }
   ],
   "source": [
    "#pickle.dump() - to dump/write data in file.\n",
    "\n",
    "pickle.dump(\"This is great!\\n\", data) \n",
    "pickle.dump(\"Writing a binary file\", data)\n",
    "\n",
    "data.close()\n",
    "\n",
    "print(\"Binary data dump successful!\")"
   ]
  },
  {
   "cell_type": "code",
   "execution_count": 12,
   "metadata": {
    "collapsed": false
   },
   "outputs": [
    {
     "name": "stdout",
     "output_type": "stream",
     "text": [
      "This is great!\n",
      "\n",
      "Writing a binary file\n"
     ]
    }
   ],
   "source": [
    "#pickle.load() - to reads data in file.\n",
    "\n",
    "data = open(\"sample.bin\", \"rb\")\n",
    "\n",
    "print(pickle.load(data))\n",
    "print(pickle.load(data))\n",
    "\n",
    "#print(pickle.load(data)) #throws EOFError since file has only two lines written in.\n",
    "\n",
    "data.close()"
   ]
  },
  {
   "cell_type": "code",
   "execution_count": 13,
   "metadata": {
    "collapsed": false
   },
   "outputs": [],
   "source": [
    "#How to append data in binary mode ? \n",
    "\n",
    "#data = open(\"sample.bin\", \"wb\")\n",
    "\n",
    "#pickle.dump(\"Appending data in binary mode!\", data)\n",
    "\n",
    "#print(\"Data appending successful!\");\n",
    "\n",
    "#data.close()"
   ]
  }
 ],
 "metadata": {
  "kernelspec": {
   "display_name": "Python 3",
   "language": "python",
   "name": "python3"
  },
  "language_info": {
   "codemirror_mode": {
    "name": "ipython",
    "version": 3
   },
   "file_extension": ".py",
   "mimetype": "text/x-python",
   "name": "python",
   "nbconvert_exporter": "python",
   "pygments_lexer": "ipython3",
   "version": "3.5.3"
  }
 },
 "nbformat": 4,
 "nbformat_minor": 2
}
